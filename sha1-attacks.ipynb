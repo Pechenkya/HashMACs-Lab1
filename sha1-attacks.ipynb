{
 "cells": [
  {
   "cell_type": "markdown",
   "metadata": {},
   "source": [
    "# Комп'ютерний практикум"
   ]
  },
  {
   "cell_type": "code",
   "execution_count": 43,
   "metadata": {},
   "outputs": [],
   "source": [
    "import hashlib as hl        # sha1\n",
    "import secrets as rnd       # randbelow, choice\n",
    "import os, sys              # output and logging\n",
    "import numpy as np, math    # calculations"
   ]
  },
  {
   "cell_type": "code",
   "execution_count": 44,
   "metadata": {},
   "outputs": [],
   "source": [
    "# Some hardcoded stuff specifically for sha1\n",
    "text = ' \\t\\n\\r\\v\\fabcdefghijklmnopqrstuvwxyzABCDEFGHIJKLMNOPQRSTUVWXYZ0123456789'\n",
    "punct = r\"\"\"!\"#$%&'()*+,-./:;<=>?@[\\]^_`{|}~\"\"\"\n",
    "ALPH = text + punct\n",
    "\n",
    "PIA_CMP_PREF_C = 40 - 4    # 4 chars to compare in the end\n",
    "BDA_CMP_PREF_C = 40 - 8    # 8 chars to compare in the end\n",
    "\n",
    "PIA_CMP_PREF_B = 20 - 2    # 2 bytes to compare in the end\n",
    "BDA_CMP_PREF_B = 20 - 4    # 4 bytes to compare in the end\n",
    "\n",
    "N = 100                    # Iteration count\n",
    "\n",
    "STD_OS = sys.stdout\n",
    "# ------------------------------------------\n",
    "\n",
    "BASE_MESSAGE_PARTS = [\"Bondar\", \"Petro\", \"Olexandrovych\", \"\"]"
   ]
  },
  {
   "cell_type": "code",
   "execution_count": 45,
   "metadata": {},
   "outputs": [],
   "source": [
    "def gen_bm_sample(char_counts=[0, 0, 0, 0]):\n",
    "    result_msg_parts = []\n",
    "\n",
    "    for i in range(4):\n",
    "        if char_counts[i] != 0:\n",
    "            gen_part = str()\n",
    "            for _ in range(char_counts[i]):\n",
    "                gen_part += rnd.choice(ALPH[6:])\n",
    "            result_msg_parts.append(gen_part)\n",
    "        result_msg_parts.append(BASE_MESSAGE_PARTS[i])\n",
    "\n",
    "    return \"\".join(result_msg_parts)\n",
    "\n",
    "def random_modification(base: str):\n",
    "    res = list(base)\n",
    "\n",
    "    for i in range(len(res)):\n",
    "        if rnd.randbelow(2) == 1:\n",
    "            res[i] = rnd.choice(ALPH)\n",
    "\n",
    "    return \"\".join(res)\n",
    "\n",
    "def rand_count_vec():\n",
    "    return ([rnd.randbelow(6),\n",
    "             rnd.randbelow(6),\n",
    "             rnd.randbelow(6),\n",
    "             rnd.randbelow(6)])\n"
   ]
  },
  {
   "cell_type": "code",
   "execution_count": 46,
   "metadata": {},
   "outputs": [],
   "source": [
    "def preimage_attack_1(base_message: str, log=False, log_output='preimage_attack_1.txt'):\n",
    "    print(f\"Base message is: {base_message}\\n\")\n",
    "    # Formating parameters and output\n",
    "    pw = len(base_message) + 6\n",
    "\n",
    "    out = sys.stdout\n",
    "    if log:\n",
    "        out = open(log_output, 'w')\n",
    "    #\n",
    "\n",
    "    base_sha = hl.sha1(base_message.encode())\n",
    "    \n",
    "    out.write(f\"{base_message:{pw}s} : {base_sha.hexdigest()[:PIA_CMP_PREF_C]}\\t{base_sha.hexdigest()[PIA_CMP_PREF_C:]}\\n\")\n",
    "    if log: print(f\"{base_message:{pw}s} : {base_sha.hexdigest()[:PIA_CMP_PREF_C]}\\t{base_sha.hexdigest()[PIA_CMP_PREF_C:]}\")\n",
    "  \n",
    "    app = 0\n",
    "    while True:\n",
    "        app += 1\n",
    "\n",
    "        msg = base_message + str(app)\n",
    "        msg_sha = hl.sha1(msg.encode())\n",
    "\n",
    "        out.write(f\"{msg:{pw}s} : {msg_sha.hexdigest()[:PIA_CMP_PREF_C]}\\t{msg_sha.hexdigest()[PIA_CMP_PREF_C:]}\")\n",
    "\n",
    "        if msg_sha.digest()[PIA_CMP_PREF_B:] == base_sha.digest()[PIA_CMP_PREF_B:]:\n",
    "            out.write(f\"\\tSecond preimage on {app}!\")\n",
    "            if log: \n",
    "                print(f\"{msg:{pw}s} : {msg_sha.hexdigest()[:PIA_CMP_PREF_C]}\\t{msg_sha.hexdigest()[PIA_CMP_PREF_C:]}\", end='')\n",
    "                print(f\"\\tSecond preimage on {app}!\")\n",
    "            \n",
    "            break\n",
    "        else:\n",
    "            out.write('\\n')\n",
    "\n",
    "    if out != sys.stdout:\n",
    "        out.close()\n",
    "    \n",
    "    return app"
   ]
  },
  {
   "cell_type": "code",
   "execution_count": 47,
   "metadata": {},
   "outputs": [],
   "source": [
    "def preimage_attack_2(base_message: str, log=False, log_output='preimage_attack_2.txt'):\n",
    "    print(f\"Base message is: {base_message}\\n\")\n",
    "    # Formating parameters\n",
    "    pw = len(base_message) + 8\n",
    "\n",
    "    out = sys.stdout\n",
    "    if log:\n",
    "        out = open(log_output, 'w')\n",
    "    #\n",
    "\n",
    "    base_sha = hl.sha1(base_message.encode())\n",
    "\n",
    "    out.write(f\"{repr(base_message):{pw}s} : {base_sha.hexdigest()[:PIA_CMP_PREF_C]}\\t{base_sha.hexdigest()[PIA_CMP_PREF_C:]}\\n\")\n",
    "    if log: print(f\"{repr(base_message):{pw}s} : {base_sha.hexdigest()[:PIA_CMP_PREF_C]}\\t{base_sha.hexdigest()[PIA_CMP_PREF_C:]}\")\n",
    "\n",
    "    itr = 0\n",
    "    while True:\n",
    "        itr += 1\n",
    "        msg = random_modification(base_message)\n",
    "        msg_sha = hl.sha1(msg.encode())\n",
    "\n",
    "        out.write(f\"{repr(msg):{pw}s} : {msg_sha.hexdigest()[:PIA_CMP_PREF_C]}\\t{msg_sha.hexdigest()[PIA_CMP_PREF_C:]}\")\n",
    "\n",
    "        if msg_sha.digest()[PIA_CMP_PREF_B:] == base_sha.digest()[PIA_CMP_PREF_B:] and msg != base_message:\n",
    "            out.write(f\"\\tSecond preimage in {itr} iterations!\\n\")\n",
    "            if log: \n",
    "                print(f\"{repr(msg):{pw}s} : {msg_sha.hexdigest()[:PIA_CMP_PREF_C]}\\t{msg_sha.hexdigest()[PIA_CMP_PREF_C:]}\", end='')\n",
    "                print(f\"\\tSecond preimage in {itr} iterations!\")\n",
    "\n",
    "            break\n",
    "        else:\n",
    "            out.write('\\n')\n",
    "\n",
    "    if out != sys.stdout:\n",
    "        out.close()\n",
    "    \n",
    "    return itr\n",
    "        "
   ]
  },
  {
   "cell_type": "markdown",
   "metadata": {},
   "source": [
    "### Атака пошуку другого прообразу 1"
   ]
  },
  {
   "cell_type": "code",
   "execution_count": 48,
   "metadata": {},
   "outputs": [],
   "source": [
    "def birthday_attack_1(base_message: str, log=False, log_output='birthday_attack_1.txt'):\n",
    "    print(f\"Base message is: {base_message}\\n\")\n",
    "    # Formating parameters\n",
    "    pw = len(base_message) + 6\n",
    "\n",
    "    out = sys.stdout\n",
    "    if log:\n",
    "        out = open(log_output, 'w')\n",
    "    #\n",
    "\n",
    "    base_sha = hl.sha1(base_message.encode())\n",
    "\n",
    "    out.write(f\"{base_message:{pw}s} : {base_sha.hexdigest()[:BDA_CMP_PREF_C]}\\t{base_sha.hexdigest()[BDA_CMP_PREF_C:]}\\n\")\n",
    "    if log: print(f\"{base_message:{pw}s} : {base_sha.hexdigest()[:BDA_CMP_PREF_C]}\\t{base_sha.hexdigest()[BDA_CMP_PREF_C:]}\")\n",
    "\n",
    "    prev_dict = {base_sha.digest()[BDA_CMP_PREF_B:]: base_message}\n",
    "    app = 0\n",
    "    while True:\n",
    "        app += 1\n",
    "\n",
    "        msg = base_message + str(app)\n",
    "        msg_sha = hl.sha1(msg.encode())\n",
    "\n",
    "        if msg_sha.digest()[BDA_CMP_PREF_B:] in prev_dict.keys():\n",
    "            col = prev_dict[msg_sha.digest()[BDA_CMP_PREF_B:]]\n",
    "            col_sha = hl.sha1(col.encode())\n",
    "            \n",
    "            out.write(f\"\\nCollision found in {app} iterations!\\n\")\n",
    "            out.write(f\"Msg: {msg:{pw}s} : {msg_sha.hexdigest()[:BDA_CMP_PREF_C]}\\t{msg_sha.hexdigest()[BDA_CMP_PREF_C:]}\\n\")\n",
    "            out.write(f\"Col: {col:{pw}s} : {col_sha.hexdigest()[:BDA_CMP_PREF_C]}\\t{col_sha.hexdigest()[BDA_CMP_PREF_C:]}\\n\")\n",
    "            if log: \n",
    "                print(f\"\\nCollision found in {app} iterations!\")\n",
    "                print(f\"Msg: {msg:{pw}s} : {msg_sha.hexdigest()[:BDA_CMP_PREF_C]}\\t{msg_sha.hexdigest()[BDA_CMP_PREF_C:]}\")\n",
    "                print(f\"Col: {col:{pw}s} : {col_sha.hexdigest()[:BDA_CMP_PREF_C]}\\t{col_sha.hexdigest()[BDA_CMP_PREF_C:]}\")\n",
    "\n",
    "            break\n",
    "        else:\n",
    "            out.write(f\"{msg:{pw}s} : {msg_sha.hexdigest()[:BDA_CMP_PREF_C]}\\t{msg_sha.hexdigest()[BDA_CMP_PREF_C:]}\\n\")\n",
    "            prev_dict[msg_sha.digest()[BDA_CMP_PREF_B:]] = msg\n",
    "    \n",
    "    if out != sys.stdout:\n",
    "        out.close()\n",
    "    \n",
    "    return app"
   ]
  },
  {
   "cell_type": "code",
   "execution_count": 49,
   "metadata": {},
   "outputs": [],
   "source": [
    "def birthday_attack_2(base_message: str, log=False, log_output='birthday_attack_2.txt'):\n",
    "    print(f\"Base message is: {base_message}\\n\")\n",
    "    # Formating parameters\n",
    "    pw = len(base_message) + 8\n",
    "\n",
    "    out = sys.stdout\n",
    "    if log:\n",
    "        out = open(log_output, 'w')\n",
    "    #\n",
    "\n",
    "    base_sha = hl.sha1(base_message.encode())\n",
    "\n",
    "    out.write(f\"{repr(base_message):{pw}s} : {base_sha.hexdigest()[:BDA_CMP_PREF_C]}\\t{base_sha.hexdigest()[BDA_CMP_PREF_C:]}\\n\")\n",
    "    if log: print(f\"{repr(base_message):{pw}s} : {base_sha.hexdigest()[:BDA_CMP_PREF_C]}\\t{base_sha.hexdigest()[BDA_CMP_PREF_C:]}\")\n",
    "\n",
    "    prev_dict = {base_sha.digest()[BDA_CMP_PREF_B:]: base_message}\n",
    "    itr = 0\n",
    "    while True:\n",
    "        itr += 1\n",
    "        msg = random_modification(base_message)\n",
    "        msg_sha = hl.sha1(msg.encode())\n",
    "\n",
    "        if msg_sha.digest()[BDA_CMP_PREF_B:] in prev_dict.keys() and msg != base_message:\n",
    "            col = prev_dict[msg_sha.digest()[BDA_CMP_PREF_B:]]\n",
    "            col_sha = hl.sha1(col.encode())\n",
    "\n",
    "            out.write(f\"\\nCollision found in {itr} iterations!\\n\")\n",
    "            out.write(f\"Msg: {repr(msg):{pw}s} : {msg_sha.hexdigest()[:BDA_CMP_PREF_C]}\\t{msg_sha.hexdigest()[BDA_CMP_PREF_C:]}\\n\")\n",
    "            out.write(f\"Col: {repr(col):{pw}s} : {col_sha.hexdigest()[:BDA_CMP_PREF_C]}\\t{col_sha.hexdigest()[BDA_CMP_PREF_C:]}\\n\")\n",
    "            if log: \n",
    "                print(f\"\\nCollision found in {itr} iterations!\")\n",
    "                print(f\"Msg: {repr(msg):{pw}s} : {msg_sha.hexdigest()[:BDA_CMP_PREF_C]}\\t{msg_sha.hexdigest()[BDA_CMP_PREF_C:]}\")\n",
    "                print(f\"Col: {repr(col):{pw}s} : {col_sha.hexdigest()[:BDA_CMP_PREF_C]}\\t{col_sha.hexdigest()[BDA_CMP_PREF_C:]}\")\n",
    "                \n",
    "            break\n",
    "        else:\n",
    "            out.write(f\"{repr(msg):{pw}s} : {msg_sha.hexdigest()[:BDA_CMP_PREF_C]}\\t{msg_sha.hexdigest()[BDA_CMP_PREF_C:]}\\n\")\n",
    "            prev_dict[msg_sha.digest()[BDA_CMP_PREF_B:]] = msg\n",
    "\n",
    "    if out != sys.stdout:\n",
    "        out.close()\n",
    "    \n",
    "    return itr"
   ]
  },
  {
   "cell_type": "markdown",
   "metadata": {},
   "source": [
    "## Запуск атак"
   ]
  },
  {
   "cell_type": "markdown",
   "metadata": {},
   "source": [
    "### Атака пошуку другого прообразу 1"
   ]
  },
  {
   "cell_type": "markdown",
   "metadata": {},
   "source": [
    "#### Перша атака"
   ]
  },
  {
   "cell_type": "code",
   "execution_count": 50,
   "metadata": {},
   "outputs": [
    {
     "name": "stdout",
     "output_type": "stream",
     "text": [
      "Base message is: 0[6s,BondarPetroOlexandrovych\n",
      "\n",
      "0[6s,BondarPetroOlexandrovych       : 1b8817784ae372ce25d044090791af69343f\t2d8a\n"
     ]
    },
    {
     "name": "stdout",
     "output_type": "stream",
     "text": [
      "0[6s,BondarPetroOlexandrovych89926  : 4d203d9db2ed0df2d0d34ebd711b7fe8ee61\t2d8a\tSecond preimage on 89926!\n"
     ]
    },
    {
     "data": {
      "text/plain": [
       "89926"
      ]
     },
     "execution_count": 50,
     "metadata": {},
     "output_type": "execute_result"
    }
   ],
   "source": [
    "preimage_attack_1(gen_bm_sample([5, 0, 0, 0]), True, os.devnull)"
   ]
  },
  {
   "cell_type": "code",
   "execution_count": 51,
   "metadata": {},
   "outputs": [
    {
     "name": "stdout",
     "output_type": "stream",
     "text": [
      "Sum of iterations: 6155243\n",
      "Mean: 61552.43\n",
      "Variance: 3399364161.2051\n"
     ]
    }
   ],
   "source": [
    "stats = []\n",
    "\n",
    "with open(os.devnull, 'w') as f:\n",
    "    sys.stdout = f\n",
    "    for i in range(N):\n",
    "        print(i)\n",
    "        stats.append(preimage_attack_1(gen_bm_sample(rand_count_vec()), True, os.devnull))\n",
    "    sys.stdout = STD_OS\n",
    "\n",
    "sum_itr = sum(stats)\n",
    "mean_val = np.mean(stats)\n",
    "variance = np.var(stats)\n",
    "\n",
    "print(f\"Sum of iterations: {sum_itr}\")\n",
    "print(f\"Mean: {mean_val}\")\n",
    "print(f\"Variance: {variance}\")"
   ]
  },
  {
   "cell_type": "markdown",
   "metadata": {},
   "source": [
    "### Атака пошуку другого прообразу 2"
   ]
  },
  {
   "cell_type": "code",
   "execution_count": 52,
   "metadata": {},
   "outputs": [
    {
     "name": "stdout",
     "output_type": "stream",
     "text": [
      "Base message is: BondarZ1n#`PetroOlexandrovych\n",
      "\n",
      "'BondarZ1n#`PetroOlexandrovych'       : 6ed2bf1da5f0ddc51d1838653d521aac0314\t7a6c\n",
      "'B(vdarv1%#`P>tro9+eJardro\\x0c_cV'    : 89398e888049e9809de32e6a8c34baccd9a8\t7a6c\tSecond preimage in 58639 iterations!\n"
     ]
    },
    {
     "data": {
      "text/plain": [
       "58639"
      ]
     },
     "execution_count": 52,
     "metadata": {},
     "output_type": "execute_result"
    }
   ],
   "source": [
    "preimage_attack_2(gen_bm_sample([0, 5, 0, 0]), True, os.devnull)"
   ]
  },
  {
   "cell_type": "code",
   "execution_count": 53,
   "metadata": {},
   "outputs": [
    {
     "name": "stdout",
     "output_type": "stream",
     "text": [
      "Sum of iterations: 6997988\n",
      "Mean: 69979.88\n",
      "Variance: 4610004413.3656\n"
     ]
    }
   ],
   "source": [
    "stats = []\n",
    "\n",
    "with open(os.devnull, 'w') as f:\n",
    "    sys.stdout = f\n",
    "    for i in range(N):\n",
    "        print(i)\n",
    "        stats.append(preimage_attack_2(gen_bm_sample(rand_count_vec()), True, os.devnull))\n",
    "    sys.stdout = STD_OS\n",
    "\n",
    "sum_itr = sum(stats)\n",
    "mean_val = np.mean(stats)\n",
    "variance = np.var(stats)\n",
    "\n",
    "print(f\"Sum of iterations: {sum_itr}\")\n",
    "print(f\"Mean: {mean_val}\")\n",
    "print(f\"Variance: {variance}\")"
   ]
  },
  {
   "cell_type": "markdown",
   "metadata": {},
   "source": [
    "### Атака днів народжень 1"
   ]
  },
  {
   "cell_type": "code",
   "execution_count": 54,
   "metadata": {},
   "outputs": [
    {
     "name": "stdout",
     "output_type": "stream",
     "text": [
      "Base message is: BondarPetroi(DIFOlexandrovych\n",
      "\n",
      "BondarPetroi(DIFOlexandrovych       : 82955d56ee39dabbb2cd75d7a188965b\t0f105368\n",
      "\n",
      "Collision found in 93216 iterations!\n",
      "Msg: BondarPetroi(DIFOlexandrovych93216  : 00213dc7807b501526de3d8f74ed4a5c\t381dc2cd\n",
      "Col: BondarPetroi(DIFOlexandrovych55724  : ab04e2528061e2d2b8721119d0e519c5\t381dc2cd\n"
     ]
    },
    {
     "data": {
      "text/plain": [
       "93216"
      ]
     },
     "execution_count": 54,
     "metadata": {},
     "output_type": "execute_result"
    }
   ],
   "source": [
    "birthday_attack_1(gen_bm_sample([0, 0, 5, 0]), True, os.devnull)"
   ]
  },
  {
   "cell_type": "code",
   "execution_count": 55,
   "metadata": {},
   "outputs": [
    {
     "name": "stdout",
     "output_type": "stream",
     "text": [
      "Sum of iterations: 8212658\n",
      "Mean: 82126.58\n",
      "Variance: 2058342953.6436002\n"
     ]
    }
   ],
   "source": [
    "stats = []\n",
    "\n",
    "with open(os.devnull, 'w') as f:\n",
    "    sys.stdout = f\n",
    "    for i in range(N):\n",
    "        print(i)\n",
    "        stats.append(birthday_attack_1(gen_bm_sample(rand_count_vec()), True, os.devnull))\n",
    "    sys.stdout = STD_OS\n",
    "\n",
    "sum_itr = sum(stats)\n",
    "mean_val = np.mean(stats)\n",
    "variance = np.var(stats)\n",
    "\n",
    "print(f\"Sum of iterations: {sum_itr}\")\n",
    "print(f\"Mean: {mean_val}\")\n",
    "print(f\"Variance: {variance}\")"
   ]
  },
  {
   "cell_type": "markdown",
   "metadata": {},
   "source": [
    "### Атака днів народжень 2"
   ]
  },
  {
   "cell_type": "code",
   "execution_count": 56,
   "metadata": {},
   "outputs": [
    {
     "name": "stdout",
     "output_type": "stream",
     "text": [
      "Base message is: BondarPetroOlexandrovychw!lry\n",
      "\n",
      "'BondarPetroOlexandrovychw!lry'       : f84e71ea31b9a4058c0a5d67f4cad5ac\t1ce8a7ae\n",
      "\n",
      "Collision found in 34961 iterations!\n",
      "Msg: 'B&(darPeKr$<lex\\nndcUvU\\x0bB[!$rL'   : 635a7a56d57f06bcb5a607d96bad7511\ta5f63ec2\n",
      "Col: 'tvab_rP3tr~O?REv%d\\n\\tvy@h$cA/P'     : d7e7078ac8082fd4d862797032689533\ta5f63ec2\n"
     ]
    },
    {
     "data": {
      "text/plain": [
       "34961"
      ]
     },
     "execution_count": 56,
     "metadata": {},
     "output_type": "execute_result"
    }
   ],
   "source": [
    "birthday_attack_2(gen_bm_sample([0, 0, 0, 5]), True, os.devnull)"
   ]
  },
  {
   "cell_type": "code",
   "execution_count": 57,
   "metadata": {},
   "outputs": [
    {
     "name": "stdout",
     "output_type": "stream",
     "text": [
      "Sum of iterations: 7987870\n",
      "Mean: 79878.7\n",
      "Variance: 2100377687.2499993\n"
     ]
    }
   ],
   "source": [
    "stats = []\n",
    "\n",
    "with open(os.devnull, 'w') as f:\n",
    "    sys.stdout = f\n",
    "    for i in range(N):\n",
    "        print(i)\n",
    "        stats.append(birthday_attack_2(gen_bm_sample(rand_count_vec()), True, os.devnull))\n",
    "    sys.stdout = STD_OS\n",
    "\n",
    "sum_itr = sum(stats)\n",
    "mean_val = np.mean(stats)\n",
    "variance = np.var(stats)\n",
    "\n",
    "print(f\"Sum of iterations: {sum_itr}\")\n",
    "print(f\"Mean: {mean_val}\")\n",
    "print(f\"Variance: {variance}\")"
   ]
  }
 ],
 "metadata": {
  "kernelspec": {
   "display_name": "Python 3",
   "language": "python",
   "name": "python3"
  },
  "language_info": {
   "codemirror_mode": {
    "name": "ipython",
    "version": 3
   },
   "file_extension": ".py",
   "mimetype": "text/x-python",
   "name": "python",
   "nbconvert_exporter": "python",
   "pygments_lexer": "ipython3",
   "version": "3.11.4"
  }
 },
 "nbformat": 4,
 "nbformat_minor": 2
}

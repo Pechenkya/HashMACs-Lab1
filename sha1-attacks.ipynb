{
 "cells": [
  {
   "cell_type": "markdown",
   "metadata": {},
   "source": [
    "# Комп'ютерний практикум"
   ]
  },
  {
   "cell_type": "code",
   "execution_count": null,
   "metadata": {},
   "outputs": [],
   "source": [
    "import hashlib as hl    # sha1\n",
    "import secrets as rnd   # randbelow, choice"
   ]
  },
  {
   "cell_type": "code",
   "execution_count": null,
   "metadata": {},
   "outputs": [],
   "source": [
    "# Some hardcoded stuff specifically for sha1\n",
    "text = ' \\t\\n\\r\\v\\fabcdefghijklmnopqrstuvwxyzABCDEFGHIJKLMNOPQRSTUVWXYZ0123456789'\n",
    "punct = r\"\"\"!\"#$%&'()*+,-./:;<=>?@[\\]^_`{|}~\"\"\"\n",
    "ALPH = text + punct\n",
    "\n",
    "PIA_CMP_PREF_C = 40 - 4    # 4 chars to compare in the end\n",
    "BDA_CMP_PREF_C = 40 - 8    # 8 chars to compare in the end\n",
    "\n",
    "PIA_CMP_PREF_B = 20 - 2    # 2 bytes to compare in the end\n",
    "BDA_CMP_PREF_B = 20 - 4    # 4 bytes to compare in the end\n",
    "# ------------------------------------------\n",
    "\n",
    "BASE_MESSAGE_PARTS = [\"Bondar\", \"Petro\", \"Olexandrovych\", \"\"]"
   ]
  },
  {
   "cell_type": "code",
   "execution_count": null,
   "metadata": {},
   "outputs": [],
   "source": [
    "def gen_bm_sample(char_counts=[0, 0, 0, 0]):\n",
    "    result_msg_parts = []\n",
    "\n",
    "    for i in range(4):\n",
    "        if char_counts[i] != 0:\n",
    "            gen_part = str()\n",
    "            for _ in range(4):\n",
    "                gen_part += rnd.choice(ALPH[6:])\n",
    "            result_msg_parts.append(gen_part)\n",
    "        result_msg_parts.append(BASE_MESSAGE_PARTS[i])\n",
    "\n",
    "    return \"\".join(result_msg_parts)\n",
    "\n",
    "def random_modification(base: str):\n",
    "    res = list(base)\n",
    "\n",
    "    for i in range(len(res)):\n",
    "        if rnd.randbelow(2) == 1:\n",
    "            res[i] = rnd.choice(ALPH)\n",
    "\n",
    "    return \"\".join(res)\n"
   ]
  },
  {
   "cell_type": "code",
   "execution_count": null,
   "metadata": {},
   "outputs": [],
   "source": [
    "def preimage_attack_1(base_message: str):\n",
    "    print(f\"Base message is: {base_message}\\n\")\n",
    "    # Formating parameters\n",
    "    pw = len(base_message) + 6\n",
    "    #\n",
    "\n",
    "    base_sha = hl.sha1(base_message.encode())\n",
    "    print(f\"{base_message:{pw}s} : {base_sha.hexdigest()[:PIA_CMP_PREF_C]}\\t{base_sha.hexdigest()[PIA_CMP_PREF_C:]}\\n\")\n",
    "\n",
    "    app = 1\n",
    "    while True:\n",
    "        msg = base_message + str(app)\n",
    "        msg_sha = hl.sha1(msg.encode())\n",
    "\n",
    "        print(f\"{msg:{pw}s} : {msg_sha.hexdigest()[:PIA_CMP_PREF_C]}\\t{msg_sha.hexdigest()[PIA_CMP_PREF_C:]}\", end='')\n",
    "\n",
    "        if msg_sha.digest()[PIA_CMP_PREF_B:] == base_sha.digest()[PIA_CMP_PREF_B:]:\n",
    "            print(f\"\\tSecond preimage on {app}!\")\n",
    "            break\n",
    "        else:\n",
    "            app += 1\n",
    "            print()"
   ]
  },
  {
   "cell_type": "code",
   "execution_count": null,
   "metadata": {},
   "outputs": [],
   "source": [
    "def preimage_attack_2(base_message: str):\n",
    "    print(f\"Base message is: {base_message}\\n\")\n",
    "    # Formating parameters\n",
    "    pw = len(base_message) + 6\n",
    "    #\n",
    "\n",
    "    base_sha = hl.sha1(base_message.encode())\n",
    "    print(f\"{repr(base_message):{pw}s} : {base_sha.hexdigest()[:PIA_CMP_PREF_C]}\\t{base_sha.hexdigest()[PIA_CMP_PREF_C:]}\\n\")\n",
    "\n",
    "    itr = 0\n",
    "    while True:\n",
    "        itr += 1\n",
    "        msg = random_modification(base_message)\n",
    "        msg_sha = hl.sha1(msg.encode())\n",
    "\n",
    "        print(f\"{repr(msg):{pw}s} : {msg_sha.hexdigest()[:PIA_CMP_PREF_C]}\\t{msg_sha.hexdigest()[PIA_CMP_PREF_C:]}\", end='')\n",
    "\n",
    "        if msg_sha.digest()[PIA_CMP_PREF_B:] == base_sha.digest()[PIA_CMP_PREF_B:] and msg != base_message:\n",
    "            print(f\"\\tSecond preimage in {itr} iterations!\")\n",
    "            break\n",
    "        else:\n",
    "            print()\n",
    "            continue"
   ]
  },
  {
   "cell_type": "code",
   "execution_count": null,
   "metadata": {},
   "outputs": [],
   "source": [
    "def birthday_attack_1(base_message: str):\n",
    "    print(f\"Base message is: {base_message}\\n\")\n",
    "    # Formating parameters\n",
    "    pw = len(base_message) + 6\n",
    "    #\n",
    "\n",
    "    base_sha = hl.sha1(base_message.encode())\n",
    "    print(f\"{repr(base_message):{pw}s} : {base_sha.hexdigest()[:BDA_CMP_PREF_C]}\\t{base_sha.hexdigest()[BDA_CMP_PREF_C:]}\\n\")\n",
    "\n",
    "    prev_dict = {base_sha.digest()[BDA_CMP_PREF_B:]: base_message}\n",
    "\n",
    "    app = 1\n",
    "    while True:\n",
    "        msg = base_message + str(app)\n",
    "        msg_sha = hl.sha1(msg.encode())\n",
    "\n",
    "        if msg_sha.digest()[BDA_CMP_PREF_B:] in prev_dict.keys():\n",
    "            col = prev_dict[msg_sha.digest()[BDA_CMP_PREF_B:]]\n",
    "            print(\"\\nCollision found!\")\n",
    "            print(f\"Msg: {msg:{pw}s} : {msg_sha.hexdigest()[:BDA_CMP_PREF_C]}\\t{msg_sha.hexdigest()[BDA_CMP_PREF_C:]}\")\n",
    "            col_sha = hl.sha1(col.encode())\n",
    "            print(f\"Col: {col:{pw}s} : {col_sha.hexdigest()[:BDA_CMP_PREF_C]}\\t{col_sha.hexdigest()[BDA_CMP_PREF_C:]}\")\n",
    "            break\n",
    "        else:\n",
    "            print(f\"{repr(msg):{pw}s} : {msg_sha.hexdigest()[:BDA_CMP_PREF_C]}\\t{msg_sha.hexdigest()[BDA_CMP_PREF_C:]}\")\n",
    "            prev_dict[msg_sha.digest()[BDA_CMP_PREF_B:]] = msg\n",
    "            app += 1"
   ]
  },
  {
   "cell_type": "code",
   "execution_count": null,
   "metadata": {},
   "outputs": [],
   "source": [
    "def birthday_attack_2(base_message: str):\n",
    "    print(f\"Base message is: {base_message}\\n\")\n",
    "    # Formating parameters\n",
    "    pw = len(base_message) + 6\n",
    "    #\n",
    "\n",
    "    base_sha = hl.sha1(base_message.encode())\n",
    "    print(f\"{repr(base_message):{pw}s} : {base_sha.hexdigest()[:BDA_CMP_PREF_C]}\\t{base_sha.hexdigest()[BDA_CMP_PREF_C:]}\\n\")\n",
    "\n",
    "    prev_dict = {base_sha.digest()[BDA_CMP_PREF_B:]: base_message}\n",
    "\n",
    "    itr = 0\n",
    "    while True:\n",
    "        itr += 1\n",
    "        msg = random_modification(base_message)\n",
    "        msg_sha = hl.sha1(msg.encode())\n",
    "\n",
    "        if msg_sha.digest()[BDA_CMP_PREF_B:] in prev_dict.keys() and msg != base_message:\n",
    "            col = prev_dict[msg_sha.digest()[BDA_CMP_PREF_B:]]\n",
    "            print(f\"\\nCollision found in {itr} iterations!\")\n",
    "            print(f\"Msg: {repr(msg):{pw}s} : {msg_sha.hexdigest()[:BDA_CMP_PREF_C]}\\t{msg_sha.hexdigest()[BDA_CMP_PREF_C:]}\")\n",
    "            col_sha = hl.sha1(col.encode())\n",
    "            print(f\"Col: {repr(col):{pw}s} : {col_sha.hexdigest()[:BDA_CMP_PREF_C]}\\t{col_sha.hexdigest()[BDA_CMP_PREF_C:]}\")\n",
    "            break\n",
    "        else:\n",
    "            print(f\"{repr(msg):40s} : {msg_sha.hexdigest()[:BDA_CMP_PREF_C]}\\t{msg_sha.hexdigest()[BDA_CMP_PREF_C:]}\")\n",
    "            prev_dict[msg_sha.digest()[BDA_CMP_PREF_B:]] = msg"
   ]
  },
  {
   "cell_type": "markdown",
   "metadata": {},
   "source": [
    "## Запуск атак"
   ]
  },
  {
   "cell_type": "markdown",
   "metadata": {},
   "source": [
    "### Атака пошуку другого прообразу 1"
   ]
  },
  {
   "cell_type": "code",
   "execution_count": null,
   "metadata": {},
   "outputs": [],
   "source": [
    "preimage_attack_1(gen_bm_sample([5, 0, 0, 0]))"
   ]
  },
  {
   "cell_type": "markdown",
   "metadata": {},
   "source": [
    "### Атака пошуку другого прообразу 2"
   ]
  },
  {
   "cell_type": "code",
   "execution_count": null,
   "metadata": {},
   "outputs": [],
   "source": [
    "preimage_attack_2(gen_bm_sample([0, 5, 0, 0]))"
   ]
  },
  {
   "cell_type": "markdown",
   "metadata": {},
   "source": [
    "### Атака днів народжень 1"
   ]
  },
  {
   "cell_type": "code",
   "execution_count": null,
   "metadata": {},
   "outputs": [],
   "source": [
    "birthday_attack_1(gen_bm_sample([0, 0, 5, 0]))"
   ]
  },
  {
   "cell_type": "markdown",
   "metadata": {},
   "source": [
    "### Атака днів народжень 2"
   ]
  },
  {
   "cell_type": "code",
   "execution_count": null,
   "metadata": {},
   "outputs": [],
   "source": [
    "birthday_attack_2(gen_bm_sample([0, 0, 0, 5]))"
   ]
  }
 ],
 "metadata": {
  "kernelspec": {
   "display_name": "Python 3",
   "language": "python",
   "name": "python3"
  },
  "language_info": {
   "codemirror_mode": {
    "name": "ipython",
    "version": 3
   },
   "file_extension": ".py",
   "mimetype": "text/x-python",
   "name": "python",
   "nbconvert_exporter": "python",
   "pygments_lexer": "ipython3",
   "version": "3.11.4"
  }
 },
 "nbformat": 4,
 "nbformat_minor": 2
}
